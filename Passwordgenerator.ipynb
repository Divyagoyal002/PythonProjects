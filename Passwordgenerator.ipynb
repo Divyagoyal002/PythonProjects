{
 "cells": [
  {
   "cell_type": "code",
   "execution_count": 1,
   "id": "b87a3d23",
   "metadata": {},
   "outputs": [],
   "source": [
    "import random"
   ]
  },
  {
   "cell_type": "code",
   "execution_count": 2,
   "id": "5f8843c5",
   "metadata": {},
   "outputs": [],
   "source": [
    "import string"
   ]
  },
  {
   "cell_type": "code",
   "execution_count": 5,
   "id": "5936d1b6",
   "metadata": {},
   "outputs": [
    {
     "name": "stdout",
     "output_type": "stream",
     "text": [
      "Pick the length of your passworda,b,c\n",
      "a. week \n",
      "b.. strong \n",
      "c. very stronngb\n",
      "('your password is', \"Rxgu#o'~\")\n"
     ]
    }
   ],
   "source": [
    "def pswd_generator():\n",
    "    a=string.ascii_letters+\\\n",
    "    string.digits + string.punctuation\n",
    "    pswd1=[]\n",
    "    length=input(\"Pick the length of your password\"\n",
    "                \" a,b,c\\na. week \\nb strong \\nc. very stronng\")\n",
    "    if length =='a':\n",
    "        length=5\n",
    "    elif length =='b':\n",
    "        length=8\n",
    "    elif length =='c':\n",
    "        length=12\n",
    "    for i in range(length):\n",
    "        pswd=str(random.choice(a))\n",
    "        pswd1.append(pswd)\n",
    "    return 'your password is', ''.join(pswd1)\n",
    "print(pswd_generator())"
   ]
  },
  {
   "cell_type": "code",
   "execution_count": null,
   "id": "4da77745",
   "metadata": {},
   "outputs": [],
   "source": []
  },
  {
   "cell_type": "code",
   "execution_count": null,
   "id": "fcd90ec4",
   "metadata": {},
   "outputs": [],
   "source": []
  }
 ],
 "metadata": {
  "kernelspec": {
   "display_name": "Python 3 (ipykernel)",
   "language": "python",
   "name": "python3"
  },
  "language_info": {
   "codemirror_mode": {
    "name": "ipython",
    "version": 3
   },
   "file_extension": ".py",
   "mimetype": "text/x-python",
   "name": "python",
   "nbconvert_exporter": "python",
   "pygments_lexer": "ipython3",
   "version": "3.9.7"
  }
 },
 "nbformat": 4,
 "nbformat_minor": 5
}
