{
 "cells": [
  {
   "cell_type": "code",
   "execution_count": null,
   "id": "38cb9b64",
   "metadata": {},
   "outputs": [],
   "source": []
  },
  {
   "cell_type": "code",
   "execution_count": 5,
   "id": "3b6fc606",
   "metadata": {},
   "outputs": [
    {
     "ename": "ModuleNotFoundError",
     "evalue": "No module named 'textblob'",
     "output_type": "error",
     "traceback": [
      "\u001b[1;31m---------------------------------------------------------------------------\u001b[0m",
      "\u001b[1;31mModuleNotFoundError\u001b[0m                       Traceback (most recent call last)",
      "\u001b[1;32m~\\AppData\\Local\\Temp/ipykernel_13552/4024029338.py\u001b[0m in \u001b[0;36m<module>\u001b[1;34m\u001b[0m\n\u001b[1;32m----> 1\u001b[1;33m \u001b[1;32mfrom\u001b[0m \u001b[0mtextblob\u001b[0m \u001b[1;32mimport\u001b[0m \u001b[0mTextBlob\u001b[0m\u001b[1;33m\u001b[0m\u001b[1;33m\u001b[0m\u001b[0m\n\u001b[0m\u001b[0;32m      2\u001b[0m \u001b[1;32mdef\u001b[0m \u001b[0mspelling_checker\u001b[0m\u001b[1;33m(\u001b[0m\u001b[1;33m)\u001b[0m\u001b[1;33m:\u001b[0m\u001b[1;33m\u001b[0m\u001b[1;33m\u001b[0m\u001b[0m\n\u001b[0;32m      3\u001b[0m     \u001b[1;32mwhile\u001b[0m \u001b[1;32mTrue\u001b[0m\u001b[1;33m:\u001b[0m\u001b[1;33m\u001b[0m\u001b[1;33m\u001b[0m\u001b[0m\n\u001b[0;32m      4\u001b[0m         \u001b[0mword\u001b[0m \u001b[1;33m=\u001b[0m \u001b[0minput\u001b[0m\u001b[1;33m(\u001b[0m\u001b[1;34m'Enter a word : '\u001b[0m\u001b[1;33m)\u001b[0m\u001b[1;33m\u001b[0m\u001b[1;33m\u001b[0m\u001b[0m\n\u001b[0;32m      5\u001b[0m  \u001b[1;31m# checking if the input word is correct\u001b[0m\u001b[1;33m\u001b[0m\u001b[1;33m\u001b[0m\u001b[0m\n",
      "\u001b[1;31mModuleNotFoundError\u001b[0m: No module named 'textblob'"
     ]
    }
   ],
   "source": [
    "from textblob import TextBlob\n",
    "\n",
    "def spelling_checker():\n",
    "    while True:\n",
    "        word = input('Enter a word : ')\n",
    " # checking if the input word is correct\n",
    "        if word != TextBlob(word).correct():\n",
    " # suggesting the correct word to the user\n",
    "            question = input(f'Did you mean '\n",
    "                        f'{TextBlob(word).correct()}?. '\n",
    "                        f'type yes/no :')\n",
    "            if question == 'yes':\n",
    "                break\n",
    "            else:\n",
    "                print('Please try again')\n",
    " # if the word entered is correct \n",
    " # the code breaks and returns word\n",
    "        elif word == TextBlob(word).correct():\n",
    "            break\n",
    "    return f'Your word is, {TextBlob(word).correct()}'\n",
    "print(spelling_checker)"
   ]
  },
  {
   "cell_type": "code",
   "execution_count": null,
   "id": "2b85feed",
   "metadata": {},
   "outputs": [
    {
     "name": "stdout",
     "output_type": "stream",
     "text": [
      "Please enter hour7\n",
      "Please enter minute15\n",
      "You have set alarm for  7:15\n"
     ]
    }
   ],
   "source": [
    "import winsound\n",
    "import datetime\n",
    "def set_alarm():\n",
    " # Enter hour\n",
    "    hour = input(\"Please enter hour\")\n",
    " # Enter minute\n",
    "    minute = input(\"Please enter minute\")\n",
    " # concatenate hour and minute\n",
    "    alarm_time = hour + ':' + minute\n",
    " # let the user know the alarm time set\n",
    "    print(\"You have set alarm for \", alarm_time)\n",
    "    while True:\n",
    "        now = datetime.datetime.now().strftime(\"%H:%M\")\n",
    "        if alarm_time == now:\n",
    "            print(\"Wake up\")\n",
    "            print(\"Wake up\")\n",
    "            print(\"Wake up\")\n",
    "            winsound.PlaySound(\"SystemExit\", winsound.SND_ALIAS)\n",
    "            break\n",
    "set_alarm()"
   ]
  },
  {
   "cell_type": "code",
   "execution_count": null,
   "id": "12658671",
   "metadata": {},
   "outputs": [],
   "source": []
  }
 ],
 "metadata": {
  "kernelspec": {
   "display_name": "Python 3 (ipykernel)",
   "language": "python",
   "name": "python3"
  },
  "language_info": {
   "codemirror_mode": {
    "name": "ipython",
    "version": 3
   },
   "file_extension": ".py",
   "mimetype": "text/x-python",
   "name": "python",
   "nbconvert_exporter": "python",
   "pygments_lexer": "ipython3",
   "version": "3.9.7"
  }
 },
 "nbformat": 4,
 "nbformat_minor": 5
}
