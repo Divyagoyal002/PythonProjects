{
 "cells": [
  {
   "cell_type": "code",
   "execution_count": 3,
   "id": "789fa438",
   "metadata": {},
   "outputs": [
    {
     "name": "stdout",
     "output_type": "stream",
     "text": [
      "Happy Diwali  May this festival bring you love and joy. Stay safe everyone Smiling face with smiling eyes\n"
     ]
    }
   ],
   "source": [
    "a = \"Happy Diwali 😀 May this festival bring you love and joy.🥰 Stay safe everyone Smiling face with smiling eyes\"\n",
    "a = a.encode('ascii', 'ignore').decode()\n",
    "print(a)"
   ]
  },
  {
   "cell_type": "code",
   "execution_count": 2,
   "id": "ad81c526",
   "metadata": {},
   "outputs": [
    {
     "name": "stdout",
     "output_type": "stream",
     "text": [
      "Enter the sentencehello how are you 😍😜I am missing you\n",
      "hello how are you I am missing you\n"
     ]
    }
   ],
   "source": [
    "a = input(\"Enter the sentence\\n\")\n",
    "a = a.encode('ascii', 'ignore').decode()\n",
    "print(a)"
   ]
  },
  {
   "cell_type": "code",
   "execution_count": null,
   "id": "cb1f1a22",
   "metadata": {},
   "outputs": [],
   "source": []
  }
 ],
 "metadata": {
  "kernelspec": {
   "display_name": "Python 3 (ipykernel)",
   "language": "python",
   "name": "python3"
  },
  "language_info": {
   "codemirror_mode": {
    "name": "ipython",
    "version": 3
   },
   "file_extension": ".py",
   "mimetype": "text/x-python",
   "name": "python",
   "nbconvert_exporter": "python",
   "pygments_lexer": "ipython3",
   "version": "3.9.7"
  }
 },
 "nbformat": 4,
 "nbformat_minor": 5
}
