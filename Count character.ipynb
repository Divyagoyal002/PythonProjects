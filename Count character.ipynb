{
 "cells": [
  {
   "cell_type": "code",
   "execution_count": 15,
   "id": "e556dabd",
   "metadata": {},
   "outputs": [
    {
     "name": "stdout",
     "output_type": "stream",
     "text": [
      "Enter string\n",
      "hey how are you doing\n",
      "{'h': 2, 'e': 2, 'y': 2, ' ': 4, 'o': 3, 'w': 1, 'a': 1, 'r': 1, 'u': 1, 'd': 1, 'i': 1, 'n': 1, 'g': 1}\n",
      "None\n",
      "['h', 'e', 'y', 'o', 'w', 'a', 'r', 'u', 'd', 'i', 'n', 'g']\n"
     ]
    }
   ],
   "source": [
    "def count_characters(s):\n",
    "    count = {}\n",
    "    for i in s:\n",
    "        if i in count:\n",
    "            count[i] += 1\n",
    "        else:\n",
    "            count[i] = 1\n",
    "    print(count)\n",
    "def char_list(s):\n",
    "    list1=[]\n",
    "    for i in s:\n",
    "        if i not in list1 and i!=' ':\n",
    "            list1.append(i)\n",
    "    return list1\n",
    "a=input(\"Enter string\\n\")\n",
    "print(count_characters(a))\n",
    "print(char_list(a))"
   ]
  },
  {
   "cell_type": "code",
   "execution_count": null,
   "id": "ac8d7a61",
   "metadata": {},
   "outputs": [],
   "source": []
  },
  {
   "cell_type": "code",
   "execution_count": null,
   "id": "a138f3c8",
   "metadata": {},
   "outputs": [],
   "source": []
  }
 ],
 "metadata": {
  "kernelspec": {
   "display_name": "Python 3 (ipykernel)",
   "language": "python",
   "name": "python3"
  },
  "language_info": {
   "codemirror_mode": {
    "name": "ipython",
    "version": 3
   },
   "file_extension": ".py",
   "mimetype": "text/x-python",
   "name": "python",
   "nbconvert_exporter": "python",
   "pygments_lexer": "ipython3",
   "version": "3.9.7"
  }
 },
 "nbformat": 4,
 "nbformat_minor": 5
}
